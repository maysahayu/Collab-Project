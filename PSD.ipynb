{
  "nbformat": 4,
  "nbformat_minor": 0,
  "metadata": {
    "colab": {
      "provenance": [],
      "include_colab_link": true
    },
    "kernelspec": {
      "name": "python3",
      "display_name": "Python 3"
    },
    "language_info": {
      "name": "python"
    }
  },
  "cells": [
    {
      "cell_type": "markdown",
      "metadata": {
        "id": "view-in-github",
        "colab_type": "text"
      },
      "source": [
        "<a href=\"https://colab.research.google.com/github/maysahayu/Collab-Project/blob/main/PSD.ipynb\" target=\"_parent\"><img src=\"https://colab.research.google.com/assets/colab-badge.svg\" alt=\"Open In Colab\"/></a>"
      ]
    },
    {
      "cell_type": "markdown",
      "source": [
        "# Judul Proyek\n",
        "##### tuliskan deskripsi proyek di sini\n",
        "##### Sumber Data: [cantumkan link di sini](https://)\n",
        "\n",
        "\n",
        "##### Kelompok:\n",
        "1.   Nama Lengkap Mahasiswa (NIM)\n",
        "2.   Nama Lengkap Mahasiswa (NIM)\n",
        "3.   Nama Lengkap Mahasiswa (NIM)\n",
        "\n"
      ],
      "metadata": {
        "id": "8U1WR1nAUOV1"
      }
    },
    {
      "cell_type": "code",
      "execution_count": null,
      "metadata": {
        "id": "zQsuBwYSUNE0"
      },
      "outputs": [],
      "source": [
        "# Import dan tampilkan sinyal tersebut di sini\n",
        "\n",
        "\n",
        "\n"
      ]
    },
    {
      "cell_type": "markdown",
      "source": [
        "*Berikan penjelasan tentang sinyal tersebut. Sinyal apakah itu? Bagaimana sinyal itu diperoleh? Sinyal tersebut menggambarkan kondisi apa? Informasi apa sajakah yang tersimpan pada sinyal tersebut? Apa perbedaan sinyal dalam kondisi normal dan abnormal?*"
      ],
      "metadata": {
        "id": "FGGFPSYvVM6T"
      }
    },
    {
      "cell_type": "code",
      "source": [
        "# Transformasikan sinyal tersebut ke dalam domain frekuensi\n",
        "# Gunakan modul scipy.fft\n",
        "\n",
        "\n",
        "\n"
      ],
      "metadata": {
        "id": "tWrWc9y6V1eL"
      },
      "execution_count": null,
      "outputs": []
    },
    {
      "cell_type": "markdown",
      "source": [
        "*Berikan penjelasan tentang informasi apa saja yang dapat diketahui dari hasil transformasi sinyal tersebut dalam domain frekuensi*\n",
        "\n"
      ],
      "metadata": {
        "id": "mNDw8Z_dV76m"
      }
    },
    {
      "cell_type": "code",
      "source": [],
      "metadata": {
        "id": "B-tHDhy2WK9k"
      },
      "execution_count": null,
      "outputs": []
    }
  ]
}